{
 "cells": [
  {
   "cell_type": "markdown",
   "id": "cec8a943-0510-4c2a-abf1-c5a7be36e34b",
   "metadata": {},
   "source": [
    "# Ollama Adapter"
   ]
  },
  {
   "cell_type": "markdown",
   "id": "ae732fb5-bed7-4a73-b5d6-86f3538675be",
   "metadata": {},
   "source": [
    "[Ollama](https://ollama.com/) is a client-server application that allows users to run large language models (LLMs) like Llama 2 locally on their machines. More specifically, Ollama downloads and caches LLM model files locally, optimizing setup and configuration details. It supports a variety of model formats like GGUF and Safetensors, and can fetch models from the Ollama model library"
   ]
  },
  {
   "cell_type": "markdown",
   "id": "6ed275a3-1bfd-4018-856e-841b3f055d33",
   "metadata": {},
   "source": [
    "## Configuration"
   ]
  },
  {
   "cell_type": "markdown",
   "id": "410eb470-0b6c-4fb9-9aa6-e28bf5477e14",
   "metadata": {},
   "source": [
    "Although Ollama is designed to be run locally, we anticipate that some users may deploy it on the cloud. As such, your local `.env` should include the following environment variable:\n",
    "* `OLLAMA_ENDPOINT` = URL to the endpoint for the Ollama server"
   ]
  },
  {
   "cell_type": "markdown",
   "id": "9c4cf17b-cefa-41eb-af0d-685621ba911f",
   "metadata": {},
   "source": [
    "## Dependencies"
   ]
  },
  {
   "cell_type": "markdown",
   "id": "0036a757-e6c9-4e15-a8ac-9678117b5871",
   "metadata": {},
   "source": [
    "The following library needs to be installed:"
   ]
  },
  {
   "cell_type": "code",
   "execution_count": null,
   "id": "4aaedf25-dee0-4191-860a-098014af90bd",
   "metadata": {},
   "outputs": [],
   "source": [
    "pip install rqle-ai-langchain-util"
   ]
  },
  {
   "cell_type": "markdown",
   "id": "0a40e423-119c-4349-911a-be9d8aa98601",
   "metadata": {},
   "source": [
    "When creating a Python script to integrate with an Ollama server, the following dependencies are required:"
   ]
  },
  {
   "cell_type": "code",
   "execution_count": null,
   "id": "a66e135f-0d2a-47d9-952f-3541e7957203",
   "metadata": {},
   "outputs": [],
   "source": [
    "from langchain.chains import LLMChain\n",
    "from langchain_core.prompts import PromptTemplate\n",
    "\n",
    "from rqle_ai_langchain_util import settings\n",
    "from rqle_ai_langchain_util.llms.adapters.llm_adapters import LLMAdapter\n",
    "from rqle_ai_langchain_util.llms.llm_mediator import LLMMediator"
   ]
  },
  {
   "cell_type": "markdown",
   "id": "b295bc38-6f3d-4fd1-ab01-b965349ff3a3",
   "metadata": {},
   "source": [
    "## Execution"
   ]
  },
  {
   "cell_type": "markdown",
   "id": "f92628dd-eb30-4b5f-8bae-2f63d4e2dfc3",
   "metadata": {},
   "source": [
    "The integration relies on a configuration folder ([see introduction](../introduction.md)) that includes:\n",
    "* a JSON file with the configuration for the chosen LLM. \n",
    "* a text file including the prompt to be executed\n",
    "\n",
    "⚠️**Note** This also determines whether chat, completion and embedding logic should be used.\n",
    "\n",
    "Once these have been created, we can start the integration with the Ollama server."
   ]
  },
  {
   "cell_type": "code",
   "execution_count": null,
   "id": "4a145c36-208f-4acb-8f5e-aa610be736d1",
   "metadata": {},
   "outputs": [],
   "source": [
    "llm_mediator = LLMMediator(LLMAdapter.GOOGLE_GEMINI, {config_folder_name})\n",
    "prompt = PromptTemplate(template=llm_mediator.prompt_template.prompt)\n",
    "llm_chain = LMChain(llm=llm_mediator.model, prompt=prompt)\n",
    "output = chain.invoke({\"question\": \"What is LangChain?\"})"
   ]
  },
  {
   "cell_type": "markdown",
   "id": "726c8be2-0e6f-4743-9cf1-9a54b74889d3",
   "metadata": {},
   "source": [
    "where `config_folder_name` is the directory where you have stored the configuration for the LLM."
   ]
  },
  {
   "cell_type": "markdown",
   "id": "afdec0bc-0945-4e40-ae6d-fe81bda35d00",
   "metadata": {},
   "source": [
    "<div style=\"text-align: center;\">\n",
    "  <hr/>\n",
    "  <img src=\"../../../img/rqle_ai_logo_alt.jpeg\" alt=\"RQle.AI\" width=\"60\"/>\n",
    "  &nbsp; RQle.AI - 2024\n",
    "</div>"
   ]
  }
 ],
 "metadata": {
  "kernelspec": {
   "display_name": "Python 3 (ipykernel)",
   "language": "python",
   "name": "python3"
  },
  "language_info": {
   "codemirror_mode": {
    "name": "ipython",
    "version": 3
   },
   "file_extension": ".py",
   "mimetype": "text/x-python",
   "name": "python",
   "nbconvert_exporter": "python",
   "pygments_lexer": "ipython3",
   "version": "3.11.4"
  }
 },
 "nbformat": 4,
 "nbformat_minor": 5
}
