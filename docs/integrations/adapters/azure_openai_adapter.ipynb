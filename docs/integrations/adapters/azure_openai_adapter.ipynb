{
 "cells": [
  {
   "cell_type": "markdown",
   "id": "f1e0450c-27fb-4ecc-aac8-946549630f73",
   "metadata": {},
   "source": [
    "# Azure OpenAI Adapter"
   ]
  },
  {
   "cell_type": "markdown",
   "id": "8cd54474-f0d0-4577-860f-b5ca45bfa579",
   "metadata": {},
   "source": [
    "[Microsoft Azure OpenAI Service](https://azure.microsoft.com/en-us/products/ai-services/openai-service/) enables businesses and developers to integrate OpenAI's powerful language and computer vision models, such as GPT-4, DALL-E, or Whisper, into their applications. It includes\n",
    "* Integrated safety system to provide protection from undesirable inputs and outputs, and monitor for misuse.\n",
    "* Tools and guidance for moderating generated content and designing applications responsibly."
   ]
  },
  {
   "cell_type": "markdown",
   "id": "f81a5df2-cccb-43f5-ac9e-ba380f7fc4b1",
   "metadata": {},
   "source": [
    "## Configuration"
   ]
  },
  {
   "cell_type": "markdown",
   "id": "fb9c7ad5-5fc5-477e-bd6e-6383b167924f",
   "metadata": {},
   "source": [
    " Your local `.env` file should include the following environment variables:\n",
    "* `AZURE_OPENAI_ENDPOINT` = the URL to access the \"resource\" running the Azure OpenAI service. \n",
    "* `AZURE_OPENAI_API_KEY` = API key provided by microsoft to access the resource.\n",
    "* `OPENAI_API_VERSION` = API version to be used"
   ]
  },
  {
   "cell_type": "markdown",
   "id": "debc5c6d-00fe-418b-a1ee-5483bbc29d6b",
   "metadata": {},
   "source": [
    "## Dependencies"
   ]
  },
  {
   "cell_type": "markdown",
   "id": "f977e5c0-b8ad-468c-8005-f996d6282051",
   "metadata": {},
   "source": [
    "The following library needs to be installed"
   ]
  },
  {
   "cell_type": "code",
   "execution_count": null,
   "id": "45e0021d-fda5-4a63-a3bd-4d2137a78aa7",
   "metadata": {},
   "outputs": [],
   "source": [
    "pip install rqle-ai-langchain-util"
   ]
  },
  {
   "cell_type": "markdown",
   "id": "df5e92ad-2223-4a04-8ff2-a1ab570ba319",
   "metadata": {},
   "source": [
    "When creating a Python script to integrate with Microsoft Azure OpenAI service, the following dependencies are required:"
   ]
  },
  {
   "cell_type": "code",
   "execution_count": 4,
   "id": "67c760f6-fd89-47fc-b45f-ad820fbf151b",
   "metadata": {},
   "outputs": [],
   "source": [
    "from langchain.chains import LLMChain\n",
    "from langchain_core.prompts import PromptTemplate\n",
    "\n",
    "from rqle_ai_langchain_util import settings\n",
    "from rqle_ai_langchain_util.llms.adapters.llm_adapters import LLMAdapter\n",
    "from rqle_ai_langchain_util.llms.llm_mediator import LLMMediator"
   ]
  },
  {
   "cell_type": "markdown",
   "id": "09ea224b-c063-4f61-bd13-87ca7f01fc0d",
   "metadata": {},
   "source": [
    "## Execution"
   ]
  },
  {
   "cell_type": "markdown",
   "id": "f48592c8-0e74-41ed-a0a7-e5bae14e6275",
   "metadata": {},
   "source": [
    "The integration relies on a configuration folder (see introduction) that includes:\n",
    "* a JSON file with the configuration for the chosen LLM.\n",
    "* a text file including the prompt to be executed\n",
    "\n",
    "<div>\n",
    "    ⚠️<b>Notes</b> \n",
    "    <ul>\n",
    "        <li>This also determines whether chat, completion or embedding logic should be used.</li>\n",
    "        <li>Microsoft Azure OpenAI service requires the `config.json` file to include `deployment_name` for \"chat\" and \"completion\".</li>\n",
    "    </ul>\n",
    "</div>\n",
    "\n",
    "Once these have been created, we can start the integration with the Azure OpenAI service."
   ]
  },
  {
   "cell_type": "code",
   "execution_count": null,
   "id": "4e94c025-3f1d-4072-9cc0-63a7e5d7706f",
   "metadata": {},
   "outputs": [],
   "source": [
    "llm_mediator = LLMMediator(LLMAdapter.AZURE_OPENAI, {config_folder_name})\n",
    "prompt = PromptTemplate(template=llm_mediator.prompt_template.prompt)\n",
    "llm_chain = LMChain(llm=llm_mediator.model, prompt=prompt)\n",
    "output = chain.invoke({\"question\": \"What is LangChain?\"})"
   ]
  },
  {
   "cell_type": "markdown",
   "id": "9fa55f0e-756a-430f-b12f-b7fab3a0d18b",
   "metadata": {},
   "source": [
    "where `config_folder_name` is the directory where you have stored the configuration for the LLM."
   ]
  },
  {
   "cell_type": "markdown",
   "id": "ab565b09-9901-4bc0-b7da-bd0c3644bae3",
   "metadata": {},
   "source": [
    "<div style=\"text-align: center;\">\n",
    "  <hr/>\n",
    "  <img src=\"../../../img/rqle_ai_logo_alt.jpeg\" alt=\"RQle.AI\" width=\"60\"/>\n",
    "  &nbsp; RQle.AI - 2024\n",
    "</div>"
   ]
  }
 ],
 "metadata": {
  "kernelspec": {
   "display_name": "Python 3 (ipykernel)",
   "language": "python",
   "name": "python3"
  },
  "language_info": {
   "codemirror_mode": {
    "name": "ipython",
    "version": 3
   },
   "file_extension": ".py",
   "mimetype": "text/x-python",
   "name": "python",
   "nbconvert_exporter": "python",
   "pygments_lexer": "ipython3",
   "version": "3.11.4"
  }
 },
 "nbformat": 4,
 "nbformat_minor": 5
}
