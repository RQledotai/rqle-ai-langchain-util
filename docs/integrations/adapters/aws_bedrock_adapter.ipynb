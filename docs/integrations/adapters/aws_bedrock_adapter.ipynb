{
 "cells": [
  {
   "cell_type": "markdown",
   "id": "a4edbe6a-c2d1-4ddd-9c6b-7401d6145675",
   "metadata": {},
   "source": [
    "# AWS Bedrock Adapter"
   ]
  },
  {
   "cell_type": "markdown",
   "id": "18e8d388-b3a9-4341-935b-0bf97d537629",
   "metadata": {},
   "source": [
    "[AWS Bedrock](https://aws.amazon.com/bedrock/) \n",
    "Amazon Bedrock is a fully managed service that offers a choice of high-performing foundation models (FMs) from leading AI companies like AI21 Labs, Anthropic, Cohere, Meta, Mistral AI, Stability AI, and Amazon via a single API, along with a broad set of capabilities you need to build generative AI applications with security, privacy, and responsible AI. Using Amazon Bedrock, you can easily experiment with and evaluate top FMs for your use case, privately customize them with your data using techniques such as fine-tuning and Retrieval Augmented Generation (RAG), and build agents that execute tasks using your enterprise systems and data sources. Since Amazon Bedrock is serverless, you don't have to manage any infrastructure, and you can securely integrate and deploy generative AI capabilities into your applications using the AWS services you are already familiar with."
   ]
  },
  {
   "cell_type": "markdown",
   "id": "97177c33-70c6-4461-b09f-5e164bc13076",
   "metadata": {},
   "source": [
    "## Configuration"
   ]
  },
  {
   "cell_type": "code",
   "execution_count": null,
   "id": "cc7889a8-67ba-43d8-bef4-8487851d2aa2",
   "metadata": {},
   "outputs": [],
   "source": []
  }
 ],
 "metadata": {
  "kernelspec": {
   "display_name": "Python 3 (ipykernel)",
   "language": "python",
   "name": "python3"
  },
  "language_info": {
   "codemirror_mode": {
    "name": "ipython",
    "version": 3
   },
   "file_extension": ".py",
   "mimetype": "text/x-python",
   "name": "python",
   "nbconvert_exporter": "python",
   "pygments_lexer": "ipython3",
   "version": "3.11.4"
  }
 },
 "nbformat": 4,
 "nbformat_minor": 5
}
