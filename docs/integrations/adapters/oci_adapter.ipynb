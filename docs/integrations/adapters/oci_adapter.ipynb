{
 "cells": [
  {
   "cell_type": "markdown",
   "id": "6856962c-26ae-475c-970c-b76d5b14df37",
   "metadata": {},
   "source": [
    "# OCI Generative AI Adapter"
   ]
  },
  {
   "cell_type": "markdown",
   "id": "963fc345-f8e7-42dc-b319-8880bb423363",
   "metadata": {},
   "source": [
    "The Oracle Cloud Infrastructure (OCI) [Generative AI Service](https://www.oracle.com/artificial-intelligence/generative-ai/generative-ai-service/) supports Meta’s Llama 2 model, Cohere’s models, and a multilingual capabilities with over 100 languages. The following large language models (LLMs) are available for text generation use cases:\n",
    "* Cohere Command in 52-billion and 6-billion parameter sizes (the XL and light models)\n",
    "* Meta Llama 2 70-billion parameter model\n",
    "\n",
    "The following Cohere Embed V3.0 models are available for text representation use cases, such as embeddings generation:\n",
    "* Embed English and English Light V3\n",
    "* Embed Multilingual and Multilingual Light V3\n",
    "Light models are smaller, but faster at generating shorter vector representations"
   ]
  },
  {
   "cell_type": "markdown",
   "id": "62eab88a-d8b4-4964-a7b5-4f961b6afb01",
   "metadata": {},
   "source": [
    "## Configuration"
   ]
  },
  {
   "cell_type": "markdown",
   "id": "fa4b94dc-f0f9-4430-bef3-f66a09020c38",
   "metadata": {},
   "source": [
    "The OCI Generative AI Service requires a config file to connect to the environment (see [documentation](https://docs.oracle.com/en-us/iaas/Content/API/Concepts/sdkconfig.htm)). An example of the configuration for Windows is found below\n",
    "```\n",
    "[DEFAULT]\n",
    "user=ocid1.user.oc1..<unique_ID>\n",
    "fingerprint=<your_fingerprint>\n",
    "key_file=%HOMEPATH%\\.oci\\oci_api_key.pem\n",
    "tenancy=ocid1.tenancy.oc1..<unique_ID>\n",
    "region=us-chicago-1\n",
    "```\n",
    "\n",
    "Furthermore, your `.env` file should include the following environment variables:\n",
    "* `OCI_AI_ENDPOINT` = your endpoint for the service\n",
    "* `OCI_AI_COMPARTMENT_ID` = your compartment identifier"
   ]
  },
  {
   "cell_type": "markdown",
   "id": "09aa6448-4e27-48b8-b86c-a08c7c54a2b8",
   "metadata": {},
   "source": [
    "## Dependencies"
   ]
  },
  {
   "cell_type": "markdown",
   "id": "3279bcac-0fdf-47e4-88a9-2fb9baf1a2ad",
   "metadata": {},
   "source": [
    "The following dependencies are required:"
   ]
  },
  {
   "cell_type": "code",
   "execution_count": 1,
   "id": "bdcbb996-4a29-481d-8ca8-276adb367cea",
   "metadata": {},
   "outputs": [
    {
     "ename": "ModuleNotFoundError",
     "evalue": "No module named 'langchain'",
     "output_type": "error",
     "traceback": [
      "\u001b[1;31m---------------------------------------------------------------------------\u001b[0m",
      "\u001b[1;31mModuleNotFoundError\u001b[0m                       Traceback (most recent call last)",
      "Cell \u001b[1;32mIn[1], line 1\u001b[0m\n\u001b[1;32m----> 1\u001b[0m \u001b[38;5;28;01mfrom\u001b[39;00m \u001b[38;5;21;01mlangchain\u001b[39;00m\u001b[38;5;21;01m.\u001b[39;00m\u001b[38;5;21;01mchains\u001b[39;00m \u001b[38;5;28;01mimport\u001b[39;00m LLMChain\n\u001b[0;32m      2\u001b[0m \u001b[38;5;28;01mfrom\u001b[39;00m \u001b[38;5;21;01mlangchain_core\u001b[39;00m\u001b[38;5;21;01m.\u001b[39;00m\u001b[38;5;21;01mprompts\u001b[39;00m \u001b[38;5;28;01mimport\u001b[39;00m PromptTemplate\n\u001b[0;32m      4\u001b[0m \u001b[38;5;28;01mfrom\u001b[39;00m \u001b[38;5;21;01mrqle_ai_langchain_util\u001b[39;00m \u001b[38;5;28;01mimport\u001b[39;00m settings\n",
      "\u001b[1;31mModuleNotFoundError\u001b[0m: No module named 'langchain'"
     ]
    }
   ],
   "source": [
    "from langchain.chains import LLMChain\n",
    "from langchain_core.prompts import PromptTemplate\n",
    "\n",
    "from rqle_ai_langchain_util import settings\n",
    "from rqle_ai_langchain_util.llms.adapters.llm_adapters import LLMAdapter\n",
    "from rqle_ai_langchain_util.llms.llm_mediator import LLMMediator"
   ]
  },
  {
   "cell_type": "markdown",
   "id": "34e76a9b-a5b1-4287-b152-e9cd1679ad34",
   "metadata": {},
   "source": [
    "## Execution"
   ]
  },
  {
   "cell_type": "markdown",
   "id": "a8b6223a-f15a-4660-9433-a73e1a1b56d3",
   "metadata": {},
   "source": [
    "The integration relies on a configuration folder [see introduction](docs/integrations/introduction.md) that includes:\n",
    "* a JSON file with the configuration for the chosen LLM. \n",
    "* a text file including the prompt to be executed\n",
    "\n",
    "⚠️**Note** This also determines whether chat, completion or embedding logic should be used.\n",
    "\n",
    "Once these have been created, we can start the integration with the OCI Generative AI service."
   ]
  },
  {
   "cell_type": "code",
   "execution_count": 2,
   "id": "6218a40e-25c8-469e-b3a2-132989ef0174",
   "metadata": {},
   "outputs": [
    {
     "ename": "NameError",
     "evalue": "name 'LLMMediator' is not defined",
     "output_type": "error",
     "traceback": [
      "\u001b[1;31m---------------------------------------------------------------------------\u001b[0m",
      "\u001b[1;31mNameError\u001b[0m                                 Traceback (most recent call last)",
      "Cell \u001b[1;32mIn[2], line 1\u001b[0m\n\u001b[1;32m----> 1\u001b[0m llm_mediator \u001b[38;5;241m=\u001b[39m \u001b[43mLLMMediator\u001b[49m(LLMAdapter\u001b[38;5;241m.\u001b[39mOCI_AI, {config_folder_name})\n",
      "\u001b[1;31mNameError\u001b[0m: name 'LLMMediator' is not defined"
     ]
    }
   ],
   "source": [
    "llm_mediator = LLMMediator(LLMAdapter.OCI_AI, {config_folder_name})\n",
    "prompt = PromptTemplate(template=llm_mediator.prompt_template.prompt,\n",
    "                        input_variables=[{input_variables}])\n",
    "llm_chain = LMChain(llm=llm_mediator.model, prompt=prompt)\n",
    "output = chain.invoke({parameters})"
   ]
  },
  {
   "cell_type": "code",
   "execution_count": null,
   "id": "03d991b2-64be-4833-8759-dd9ac63a60fa",
   "metadata": {},
   "outputs": [],
   "source": []
  }
 ],
 "metadata": {
  "kernelspec": {
   "display_name": "Python 3 (ipykernel)",
   "language": "python",
   "name": "python3"
  },
  "language_info": {
   "codemirror_mode": {
    "name": "ipython",
    "version": 3
   },
   "file_extension": ".py",
   "mimetype": "text/x-python",
   "name": "python",
   "nbconvert_exporter": "python",
   "pygments_lexer": "ipython3",
   "version": "3.11.4"
  }
 },
 "nbformat": 4,
 "nbformat_minor": 5
}
